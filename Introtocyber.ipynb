{
  "nbformat": 4,
  "nbformat_minor": 0,
  "metadata": {
    "colab": {
      "provenance": []
    },
    "kernelspec": {
      "name": "python3",
      "display_name": "Python 3"
    },
    "language_info": {
      "name": "python"
    }
  },
  "cells": [
    {
      "cell_type": "markdown",
      "source": [
        "Symmetric encryption algorithm is an encryption method that uses one key to encrypt and decrypt the message or data. The people communicating using symmetric encryption algorithms must securely exchange the key, Since it is a private key.\n",
        "\n",
        "Vigenere Cipher\n",
        "\n",
        "Working:\n",
        "\n",
        "Encryption:\n",
        "1. Choose a Keyword: Select a keyword or key phrase.\n",
        "2. Repeat the Keyword: Repeat the keyword to match the length of the plaintext.\n",
        "3. Encrypt Each Letter and convert each letter of the plaintext and the repeated keyword to numerical values (A=0, B=1, ..., Z=25).\n",
        "4. Add the numerical values of the corresponding letters in the plaintext and the repeated keyword.\n",
        "5. Take the result modulo 26 (wrap around the alphabet if necessary) to get the encrypted letter.\n",
        "6. Convert the numerical result back to a letter.\n",
        "\n",
        "Decryption:\n",
        "1. Repeat the Keyword: Repeat the keyword to match the length of the ciphertext.\n",
        "2. Decrypt Each Letter convert each letter of the ciphertext and the repeated keyword to numerical values.\n",
        "3. Subtract the numerical values of the corresponding letters in the ciphertext and the repeated keyword.\n",
        "4. Take the result modulo 26 (wrap around the alphabet if necessary) to get the decrypted letter.\n",
        "5. Convert the numerical result back to a letter.\n"
      ],
      "metadata": {
        "id": "bWxs9ND-FLqT"
      }
    },
    {
      "cell_type": "code",
      "execution_count": null,
      "metadata": {
        "colab": {
          "base_uri": "https://localhost:8080/"
        },
        "id": "fXRrnhQkFBC8",
        "outputId": "f0e1b16c-12e4-40af-fae1-d4056ac60b65"
      },
      "outputs": [
        {
          "output_type": "stream",
          "name": "stdout",
          "text": [
            "Enter the plain text: vigenere\n",
            "Enter the key: keykeyke\n",
            "Encrypted text: fmeorcbi\n",
            "Decrypted text: vigenere\n"
          ]
        }
      ],
      "source": [
        "def encr(plain_txt, key):\n",
        "    alphabet_dictionary = {\n",
        "        'a': 0, 'b': 1, 'c': 2, 'd': 3, 'e': 4, 'f': 5, 'g': 6, 'h': 7, 'i': 8, 'j': 9, 'k': 10,\n",
        "        'l': 11, 'm': 12, 'n': 13, 'o': 14, 'p': 15, 'q': 16, 'r': 17, 's': 18, 't': 19, 'u': 20,\n",
        "        'v': 21, 'w': 22, 'x': 23, 'y': 24, 'z': 25\n",
        "    }\n",
        "\n",
        "    encr_txt = \"\"\n",
        "    for char, k in zip(plain_txt, key):\n",
        "        if char.isalpha():\n",
        "            new_indx = (alphabet_dictionary[char] + alphabet_dictionary[k.lower()]) % 26\n",
        "            cipher_txt = next(key for key, value in alphabet_dictionary.items() if value == new_indx)\n",
        "            if char.isupper():\n",
        "                cipher_txt = cipher_txt.upper()\n",
        "            encr_txt += cipher_txt\n",
        "        else:\n",
        "            encr_txt += char\n",
        "    return encr_txt\n",
        "\n",
        "def decr(encr_txt, key):\n",
        "    alphabet_dictionary = {\n",
        "        'a': 0, 'b': 1, 'c': 2, 'd': 3, 'e': 4, 'f': 5, 'g': 6, 'h': 7, 'i': 8, 'j': 9, 'k': 10,\n",
        "        'l': 11, 'm': 12, 'n': 13, 'o': 14, 'p': 15, 'q': 16, 'r': 17, 's': 18, 't': 19, 'u': 20,\n",
        "        'v': 21, 'w': 22, 'x': 23, 'y': 24, 'z': 25\n",
        "    }\n",
        "\n",
        "    decr_txt = \"\"\n",
        "    for char, k in zip(encr_txt, key):\n",
        "        if char.isalpha():\n",
        "            old_indx = (alphabet_dictionary[char] - alphabet_dictionary[k.lower()]) % 26\n",
        "            plain_txt = next(key for key, value in alphabet_dictionary.items() if value == old_indx)\n",
        "            if char.isupper():\n",
        "                plain_txt = plain_txt.upper()\n",
        "            decr_txt += plain_txt\n",
        "        else:\n",
        "            decr_txt += char\n",
        "    return decr_txt\n",
        "\n",
        "txt = input(\"Enter the plain text: \")\n",
        "key = input(\"Enter the key: \")\n",
        "encrypted_text = encr(txt, key)\n",
        "print(\"Encrypted text:\", encrypted_text)\n",
        "\n",
        "decrypted_text = decr(encrypted_text, key)\n",
        "print(\"Decrypted text:\", decrypted_text)"
      ]
    },
    {
      "cell_type": "markdown",
      "source": [
        "Caesar Cipher\n",
        "\n",
        "Working\n",
        "\n",
        "Encryption:\n",
        "1. Firstly Decide on a number to shift the alphabet by. Called the key.\n",
        "2. Convert Plaintext to Cipher:\n",
        "   - Take each letter of the plaintext.\n",
        "   - Shift the letter by the chosen number of positions.\n",
        "   - Wrap around the alphabet if necessary\n",
        "3. Replace each letter in the plaintext with its shifted counterpart.\n",
        "\n",
        "Decryption:\n",
        "1. If you don't know the shift, you'll have to try all possible shifts until you find the correct one. Therefore you should know the shift.\n",
        "\n",
        "2. Convert Cipher to Plaintext:\n",
        "Take each letter of the ciphertext and shift the letter backward by the chosen number of positions (equal to the shift used in encryption). Wrap around the alphabet if necessary.\n",
        "3. Replace each letter in the ciphertext with its shifted counterpart.\n"
      ],
      "metadata": {
        "id": "JpcWo5WUFKYB"
      }
    },
    {
      "cell_type": "code",
      "source": [
        "def caesar_encrypt(text, shift):\n",
        "    encrypted_text = ''\n",
        "    for char in text:\n",
        "        if char.isalpha():\n",
        "            shifted = ord(char) + shift\n",
        "            if char.islower():\n",
        "                if shifted > ord('z'):\n",
        "                    shifted -= 26\n",
        "                elif shifted < ord('a'):\n",
        "                    shifted += 26\n",
        "            elif char.isupper():\n",
        "                if shifted > ord('Z'):\n",
        "                    shifted -= 26\n",
        "                elif shifted < ord('A'):\n",
        "                    shifted += 26\n",
        "            encrypted_text += chr(shifted)\n",
        "        else:\n",
        "            encrypted_text += char\n",
        "    return encrypted_text\n",
        "\n",
        "def caesar_decrypt(encrypted_text, shift):\n",
        "    return caesar_encrypt(encrypted_text, -shift)\n",
        "\n",
        "plaintext =input(\"Enter the plaintext:\")\n",
        "shift =int(input(\"Enter shift position:\"))\n",
        "encrypted = caesar_encrypt(plaintext, shift)\n",
        "print(\"Encrypted:\", encrypted)\n",
        "decrypted = caesar_decrypt(encrypted, shift)\n",
        "print(\"Decrypted:\", decrypted)\n"
      ],
      "metadata": {
        "id": "osu-wFttHI7T",
        "colab": {
          "base_uri": "https://localhost:8080/"
        },
        "outputId": "b669c506-eacd-474b-9999-065d6149d7ad"
      },
      "execution_count": 3,
      "outputs": [
        {
          "output_type": "stream",
          "name": "stdout",
          "text": [
            "Enter the plaintext:caesar\n",
            "Enter shift position:4\n",
            "Encrypted: geiwev\n",
            "Decrypted: caesar\n"
          ]
        }
      ]
    },
    {
      "cell_type": "markdown",
      "source": [
        "Asymmetric encryption uses a pair of keys to encrypt and decrypt data. The keys includes a public key, which can be shared with anyone, and a private key, which is kept secret by the owner. In asymmetric encryption, the sender uses the recipient’s public key to encrypt the data. The recipient then uses their private key to decrypt the data. Two types of assymmetric encryption algorithms are RSA and ElGamal encryption algorithm.\n",
        "\n",
        "RSA:\n",
        "\n",
        "Working:\n",
        "\n",
        "Encryption:\n",
        "1. Key Generation:\n",
        "   - Choose two large prime numbers, p and q.\n",
        "   - Multiply them to get N = p *q .\n",
        "   - Choose a small number e that is relatively prime to (p-1) *(q-1).\n",
        "   - The public key is (N, e).\n",
        "2. Encryption:\n",
        "   - Convert the plaintext message into a number, M.\n",
        "   - Compute the ciphertext C using the formula C≡M^e modN.\n",
        "\n",
        "Decryption:\n",
        "1. Key Generation:\n",
        "   - Compute d, the modular multiplicative inverse of e modulo (p-1) * (q-1) .\n",
        "   - The private key is  (N, d) .\n",
        "2. Decryption:\n",
        "   - Compute the plaintext message M using the formula 𝑀≡𝐶^𝑑mod  𝑁\n"
      ],
      "metadata": {
        "id": "EhN6oVGQJTMb"
      }
    },
    {
      "cell_type": "code",
      "source": [
        "import random\n",
        "\n",
        "def gcd(a, b):\n",
        "    while b != 0:\n",
        "        a, b = b, a % b\n",
        "    return a\n",
        "\n",
        "def mod_inverse(a, m):\n",
        "    m0, x0, x1 = m, 0, 1\n",
        "    while a > 1:\n",
        "        q = a // m\n",
        "        m, a = a % m, m\n",
        "        x0, x1 = x1 - q * x0, x0\n",
        "    return x1 + m0 if x1 < 0 else x1\n",
        "\n",
        "def is_prime(n, k=5):\n",
        "    if n <= 1:\n",
        "        return False\n",
        "    if n <= 3:\n",
        "        return True\n",
        "    for _ in range(k):\n",
        "        a = random.randint(2, n - 1)\n",
        "        if gcd(n, a) != 1:\n",
        "            return False\n",
        "        if pow(a, n - 1, n) != 1:\n",
        "            return False\n",
        "    return True\n",
        "\n",
        "def generate_keypair(p, q):\n",
        "    if not (is_prime(p) and is_prime(q)):\n",
        "        raise ValueError(\"Both numbers must be prime.\")\n",
        "    n = p * q\n",
        "    phi = (p - 1) * (q - 1)\n",
        "    e = random.randrange(1, phi)\n",
        "    while gcd(e, phi) != 1:\n",
        "        e = random.randrange(1, phi)\n",
        "    d = mod_inverse(e, phi)\n",
        "    return ((e, n), (d, n))\n",
        "\n",
        "def encrypt(public_key, plaintext):\n",
        "    e, n = public_key\n",
        "    ciphertext = [pow(ord(char), e, n) for char in plaintext]\n",
        "    return ciphertext\n",
        "\n",
        "def decrypt(private_key, ciphertext):\n",
        "    d, n = private_key\n",
        "    plaintext = ''.join([chr(pow(char, d, n)) for char in ciphertext])\n",
        "    return plaintext\n",
        "\n",
        "p = int(input(\"Enter the value of p (Prime Number):\"))\n",
        "q = int(input(\"Enter the value of q (Prime Number):\"))\n",
        "public_key, private_key = generate_keypair(p, q)\n",
        "print(\"Public Key:\", public_key)\n",
        "print(\"Private Key:\", private_key)\n",
        "\n",
        "plaintext = input(\"Enter the plaintext:\")\n",
        "encrypted = encrypt(public_key, plaintext)\n",
        "print(\"Encrypted:\", encrypted)\n",
        "\n",
        "decrypted = decrypt(private_key, encrypted)\n",
        "print(\"Decrypted:\", decrypted)\n"
      ],
      "metadata": {
        "colab": {
          "base_uri": "https://localhost:8080/"
        },
        "id": "zdwKeWWINkAS",
        "outputId": "e818614b-d2c5-4c54-d090-782c2c336c12"
      },
      "execution_count": 4,
      "outputs": [
        {
          "output_type": "stream",
          "name": "stdout",
          "text": [
            "Enter the value of p (Prime Number):43\n",
            "Enter the value of q (Prime Number):67\n",
            "Public Key: (419, 2881)\n",
            "Private Key: (1343, 2881)\n",
            "Enter the plaintext:fathima\n",
            "Encrypted: [680, 2584, 205, 1302, 2442, 1047, 2584]\n",
            "Decrypted: fathima\n"
          ]
        }
      ]
    },
    {
      "cell_type": "markdown",
      "source": [
        "ElGamal Encryption Algorithm\n",
        "\n",
        "Working:\n",
        " It uses asymmetric key encryption for communicating between two parties and encrypting the message. It is based on the difficulty of finding discrete logarithm in a cyclic group that is even if we know g^a and g^k, it is extremely difficult to compute g^ak"
      ],
      "metadata": {
        "id": "lfXNFga5OGJn"
      }
    },
    {
      "cell_type": "code",
      "source": [
        "import random\n",
        "\n",
        "def gcd(a, b):\n",
        "    if a < b:\n",
        "        return gcd(b, a)\n",
        "    elif a % b == 0:\n",
        "        return b\n",
        "    else:\n",
        "        return gcd(b, a % b)\n",
        "\n",
        "def gen_key(q):\n",
        "    key = random.randint(pow(10, 20), q)\n",
        "    while gcd(q, key) != 1:\n",
        "        key = random.randint(pow(10, 20), q)\n",
        "    return key\n",
        "\n",
        "def power(a, b, c):\n",
        "    x = 1\n",
        "    y = a\n",
        "    while b > 0:\n",
        "        if b % 2 != 0:\n",
        "            x = (x * y) % c\n",
        "        y = (y * y) % c\n",
        "        b = int(b / 2)\n",
        "    return x % c\n",
        "\n",
        "def encrypt(msg, q, h, g):\n",
        "    en_msg = []\n",
        "    k = gen_key(q)  # Private key for sender\n",
        "    s = power(h, k, q)\n",
        "    p = power(g, k, q)\n",
        "    for i in range(len(msg)):\n",
        "        en_msg.append(msg[i])\n",
        "    for i in range(len(en_msg)):\n",
        "        en_msg[i] = s * ord(en_msg[i])\n",
        "    return en_msg, p\n",
        "\n",
        "def decrypt(en_msg, p, key, q):\n",
        "    dr_msg = []\n",
        "    h = power(p, key, q)\n",
        "    for i in range(len(en_msg)):\n",
        "        dr_msg.append(chr(int(en_msg[i] / h)))\n",
        "    return dr_msg\n",
        "\n",
        "msg = input(\"Enter the plaintext:\")\n",
        "print(\"Original Message:\", msg)\n",
        "q = random.randint(pow(10, 20), pow(10, 50))\n",
        "g = random.randint(2, q)\n",
        "key = gen_key(q)\n",
        "h = power(g, key, q)\n",
        "print(\"g used (g is a generator element from the cyclic group):\", g)\n",
        "print(\"g^a used (g^a is the result of raising g to the power of Bob’s private key):\", h)\n",
        "en_msg, p = encrypt(msg, q, h, g)\n",
        "dr_msg = decrypt(en_msg, p, key, q)\n",
        "dmsg = ''.join(dr_msg)\n",
        "print(\"Decrypted Message:\", dmsg)\n"
      ],
      "metadata": {
        "colab": {
          "base_uri": "https://localhost:8080/"
        },
        "id": "683rSCEEOjuy",
        "outputId": "ac6cb026-0ef1-447d-c63c-10420b8c1f63"
      },
      "execution_count": 5,
      "outputs": [
        {
          "output_type": "stream",
          "name": "stdout",
          "text": [
            "Enter the plaintext:elgamal\n",
            "Original Message: elgamal\n",
            "g used (g is a generator element from the cyclic group): 6048177033799568390003925164814110801704384396441\n",
            "g^a used (g^a is the result of raising g to the power of Bob’s private key): 16693833339751828278058479315212345502137185404689\n",
            "Decrypted Message: elgamal\n"
          ]
        }
      ]
    },
    {
      "cell_type": "markdown",
      "source": [
        "hash function is used to compute the hash of a given string.\n",
        "\n",
        "1. We start with a given string.\n",
        "2. Encoding: The string is converted into a sequence of bytes. Common encodings include UTF-8, UTF-16, and ASCII.\n",
        "3. Hash Function: We apply a hash function to these bytes. A hash function takes an input (the byte sequence) and produces a fixed-size output (the hash value).\n",
        "4. Hash Value\n",
        "The hash function produces a hash value, which is typically a hexadecimal string. This hash value uniquely represents the input string.\n"
      ],
      "metadata": {
        "id": "Gk22w05KQhDQ"
      }
    },
    {
      "cell_type": "code",
      "source": [
        "import hashlib\n",
        "\n",
        "def compute_hash(input_string):\n",
        "    # Convert the input string to bytes\n",
        "    input_bytes = input_string.encode('utf-8')\n",
        "\n",
        "    # Compute the hash using SHA-256 algorithm\n",
        "    hash_result = hashlib.sha256(input_bytes).hexdigest()\n",
        "\n",
        "    return hash_result\n",
        "\n",
        "input_string =input(\"Enter the string:\")\n",
        "hash_result = compute_hash(input_string)\n",
        "print(\"Hash of '{}' is: {}\".format(input_string, hash_result))"
      ],
      "metadata": {
        "colab": {
          "base_uri": "https://localhost:8080/"
        },
        "id": "YFQV_hElQuXR",
        "outputId": "3d46568f-84c4-45e9-81c3-2a1c4616e2c7"
      },
      "execution_count": 6,
      "outputs": [
        {
          "output_type": "stream",
          "name": "stdout",
          "text": [
            "Enter the string:fathima\n",
            "Hash of 'fathima' is: febbaaafea9c7b4d6f974c63d0836e3abc499b0c298b8e799a900b149f6688af\n"
          ]
        }
      ]
    }
  ]
}